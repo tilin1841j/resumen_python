{
  "nbformat": 4,
  "nbformat_minor": 0,
  "metadata": {
    "colab": {
      "provenance": [],
      "authorship_tag": "ABX9TyOmvwIBTUQq+5ViHpX+vMl7",
      "include_colab_link": true
    },
    "kernelspec": {
      "name": "python3",
      "display_name": "Python 3"
    },
    "language_info": {
      "name": "python"
    }
  },
  "cells": [
    {
      "cell_type": "markdown",
      "metadata": {
        "id": "view-in-github",
        "colab_type": "text"
      },
      "source": [
        "<a href=\"https://colab.research.google.com/github/tilin1841j/resumen_python/blob/main/resumen_python.ipynb\" target=\"_parent\"><img src=\"https://colab.research.google.com/assets/colab-badge.svg\" alt=\"Open In Colab\"/></a>"
      ]
    },
    {
      "cell_type": "markdown",
      "source": [
        " Se importan las librerías numpy y matplotlib.pyplot para realizar cálculos matriciales y crear gráficos, respectivamente son las unicas dos que utilamos a un que podamos utilizar las bibliotecas panda o geopandas"
      ],
      "metadata": {
        "id": "2rbSwb7SxB9G"
      }
    },
    {
      "cell_type": "code",
      "source": [
        "import numpy as np\n",
        "import matplotlib.pyplot as plt"
      ],
      "metadata": {
        "id": "_npuI-hQvMm3"
      },
      "execution_count": 2,
      "outputs": []
    },
    {
      "cell_type": "markdown",
      "source": [
        "Se definen las matrices A (primera columba donde esta x,y,z) y b ( donde es el = de cada columna) que representan los coeficientes y los términos independientes del sistema de ecuaciones."
      ],
      "metadata": {
        "id": "rgSspUifxE81"
      }
    },
    {
      "cell_type": "code",
      "source": [
        "# Definir el sistema de ecuaciones como matrices\n",
        "A = np.array([[3, 9, -10], [1, -6, 4], [10, -2, 8]])\n",
        "b = np.array([24, -4, 20])\n"
      ],
      "metadata": {
        "id": "myS8a6dYwroL"
      },
      "execution_count": null,
      "outputs": []
    },
    {
      "cell_type": "markdown",
      "source": [
        "Se utiliza la función solve de NumPy para resolver el sistema de ecuaciones y obtener el vector solución x."
      ],
      "metadata": {
        "id": "BYCVKq_TxNYj"
      }
    },
    {
      "cell_type": "code",
      "source": [
        "# Resolver el sistema de ecuaciones usando la función `solve` de NumPy\n",
        "x = np.linalg.solve(A, b)"
      ],
      "metadata": {
        "id": "NquK6tW_wrlg"
      },
      "execution_count": null,
      "outputs": []
    },
    {
      "cell_type": "markdown",
      "source": [
        "Se imprime el vector solución x que representa los valores de las variables x, y y z."
      ],
      "metadata": {
        "id": "hFcgWv8pxQND"
      }
    },
    {
      "cell_type": "code",
      "source": [
        "# Imprimir la solución del sistema de ecuaciones\n",
        "print(\"Solución del sistema de ecuaciones:\")\n",
        "print(x)"
      ],
      "metadata": {
        "colab": {
          "base_uri": "https://localhost:8080/"
        },
        "id": "x9ko6G9Hwriy",
        "outputId": "08beaba3-676a-42ed-f357-06d5c6d9d579"
      },
      "execution_count": 24,
      "outputs": [
        {
          "output_type": "stream",
          "name": "stdout",
          "text": [
            "Solución del sistema de ecuaciones:\n",
            "[ 2.99029126  0.40776699 -1.13592233]\n"
          ]
        }
      ]
    },
    {
      "cell_type": "markdown",
      "source": [
        "Se define un rango de valores de x utilizando np.arange.\n",
        "Se calculan los valores de y para cada valor de x utilizando las ecuaciones proporcionadas.\n",
        "Se crea un gráfico utilizando plt.plot para cada ecuación, asignando un nombre a cada línea."
      ],
      "metadata": {
        "id": "BYWvRK60xTjM"
      }
    },
    {
      "cell_type": "code",
      "source": [
        "# Graficar las ecuaciones\n",
        "x_vals = np.arange(-10, 11, 1)  # Rango de valores de x"
      ],
      "metadata": {
        "id": "DcQ7SeuVwrgM"
      },
      "execution_count": null,
      "outputs": []
    },
    {
      "cell_type": "code",
      "source": [
        "# Calcular los valores de y para cada valor de x\n",
        "y1 = (24 - 3 * x_vals) / 9\n",
        "y2 = (4 + x_vals) / 6\n",
        "y3 = (20 - 10 * x_vals) / 8\n"
      ],
      "metadata": {
        "id": "W2ceLdpMwrdj"
      },
      "execution_count": null,
      "outputs": []
    },
    {
      "cell_type": "code",
      "source": [
        "# Crear la gráfica\n",
        "plt.plot(x_vals, y1, label=\"3x + 9y - 10z = 24\")\n",
        "plt.plot(x_vals, y2, label=\"x - 6y + 4z = -4\")\n",
        "plt.plot(x_vals, y3, label=\"10x - 2y + 8z = 20\")\n"
      ],
      "metadata": {
        "id": "jqSqqemzwraz"
      },
      "execution_count": null,
      "outputs": []
    },
    {
      "cell_type": "code",
      "source": [
        "Personalizar el gráfico:\n",
        "Se añaden etiquetas para los ejes x e y.\n",
        "Se añade un título al gráfico.\n",
        "Se añade una leyenda para identificar cada línea."
      ],
      "metadata": {
        "id": "M9LsDna1xZQ0"
      },
      "execution_count": null,
      "outputs": []
    },
    {
      "cell_type": "code",
      "source": [
        "# Añadir etiquetas y título al gráfico\n",
        "plt.xlabel(\"x\")\n",
        "plt.ylabel(\"y\")\n",
        "plt.title(\"Solución gráfica del sistema de ecuaciones\")\n"
      ],
      "metadata": {
        "id": "aAJu8AQHwrYV"
      },
      "execution_count": null,
      "outputs": []
    },
    {
      "cell_type": "markdown",
      "source": [
        "Mostrar el gráfico: Se muestra el gráfico utilizando plt.show()"
      ],
      "metadata": {
        "id": "UPy1zIwIxdTM"
      }
    },
    {
      "cell_type": "code",
      "source": [
        "# Añadir leyenda al gráfico\n",
        "plt.legend()\n",
        "\n",
        "# Mostrar la gráfica\n",
        "plt.grid(True)\n",
        "plt.show()"
      ],
      "metadata": {
        "id": "PLrQ3BvMw5Oc"
      },
      "execution_count": null,
      "outputs": []
    },
    {
      "cell_type": "code",
      "source": [],
      "metadata": {
        "id": "psaiJxrbw5HG"
      },
      "execution_count": null,
      "outputs": []
    },
    {
      "cell_type": "code",
      "source": [
        "import numpy as np\n",
        "import matplotlib.pyplot as plt\n",
        "\n",
        "# Definir el sistema de ecuaciones como matrices\n",
        "A = np.array([[3, 9, -10], [1, -6, 4], [10, -2, 8]])\n",
        "b = np.array([24, -4, 20])\n",
        "\n",
        "# Resolver el sistema de ecuaciones usando la función `solve` de NumPy\n",
        "x = np.linalg.solve(A, b)\n",
        "\n",
        "# Imprimir la solución del sistema de ecuaciones\n",
        "print(\"Solución del sistema de ecuaciones:\")\n",
        "print(x)\n",
        "\n",
        "# Graficar las ecuaciones\n",
        "x_vals = np.arange(-10, 11, 1)  # Rango de valores de x\n",
        "\n",
        "# Calcular los valores de y para cada valor de x\n",
        "y1 = (24 - 3 * x_vals) / 9\n",
        "y2 = (4 + x_vals) / 6\n",
        "y3 = (20 - 10 * x_vals) / 8\n",
        "\n",
        "# Crear la gráfica\n",
        "plt.plot(x_vals, y1, label=\"3x + 9y - 10z = 24\")\n",
        "plt.plot(x_vals, y2, label=\"x - 6y + 4z = -4\")\n",
        "plt.plot(x_vals, y3, label=\"10x - 2y + 8z = 20\")\n",
        "\n",
        "# Añadir etiquetas y título al gráfico\n",
        "plt.xlabel(\"x\")\n",
        "plt.ylabel(\"y\")\n",
        "plt.title(\"Solución gráfica del sistema de ecuaciones\")\n",
        "\n",
        "# Añadir leyenda al gráfico\n",
        "plt.legend()\n",
        "\n",
        "# Mostrar la gráfica\n",
        "plt.grid(True)\n",
        "plt.show()\n"
      ],
      "metadata": {
        "colab": {
          "base_uri": "https://localhost:8080/",
          "height": 507
        },
        "id": "HzD7gmSAwYx8",
        "outputId": "f8702233-7695-40e5-9e19-1335236adaaa"
      },
      "execution_count": 29,
      "outputs": [
        {
          "output_type": "stream",
          "name": "stdout",
          "text": [
            "Solución del sistema de ecuaciones:\n",
            "[ 2.99029126  0.40776699 -1.13592233]\n"
          ]
        },
        {
          "output_type": "display_data",
          "data": {
            "text/plain": [
              "<Figure size 640x480 with 1 Axes>"
            ],
            "image/png": "[encoded data removed]"
          },
          "metadata": {}
        }
      ]
    }
  ]
}